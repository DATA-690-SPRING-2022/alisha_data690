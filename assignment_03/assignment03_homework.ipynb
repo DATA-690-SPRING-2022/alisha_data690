{
  "cells": [
    {
      "cell_type": "markdown",
      "metadata": {
        "id": "view-in-github",
        "colab_type": "text"
      },
      "source": [
        "<a href=\"https://colab.research.google.com/github/alishaminj12/alisha_data690/blob/main/assignment_03/assignment03_homework.ipynb\" target=\"_parent\"><img src=\"https://colab.research.google.com/assets/colab-badge.svg\" alt=\"Open In Colab\"/></a>"
      ]
    },
    {
      "cell_type": "markdown",
      "source": [
        "# **Assignment 03**\n",
        "\n",
        "- Name- Alisha Minj\n",
        "- Date- 02-18-2022"
      ],
      "metadata": {
        "id": "c7ChypawWgZf"
      }
    },
    {
      "cell_type": "markdown",
      "source": [
        "**Program that generates 100 random integers between 0 and 9.**"
      ],
      "metadata": {
        "id": "HhkSU0q9ta0F"
      }
    },
    {
      "cell_type": "markdown",
      "source": [
        "**1. Create a 10 by 10 matrix neatly arranged with one space between each number:**\n",
        "\n"
      ],
      "metadata": {
        "id": "oNkaodbs2HP5"
      }
    },
    {
      "cell_type": "code",
      "execution_count": 1,
      "metadata": {
        "id": "qfkmfrRp4EQL"
      },
      "outputs": [],
      "source": [
        "import random"
      ]
    },
    {
      "cell_type": "code",
      "execution_count": 2,
      "metadata": {
        "colab": {
          "base_uri": "https://localhost:8080/"
        },
        "id": "ppeVpvgz4JrS",
        "outputId": "7165fc92-4e28-4b03-8652-ae9d3fc9be34"
      },
      "outputs": [
        {
          "output_type": "stream",
          "name": "stdout",
          "text": [
            "0 5 8 5 7 0 5 4 5 8 \n",
            "9 8 2 2 7 9 1 8 0 1 \n",
            "8 9 5 1 3 4 0 1 1 0 \n",
            "3 9 7 4 5 5 3 6 2 5 \n",
            "2 1 8 5 4 0 8 2 2 7 \n",
            "3 5 3 3 0 9 0 3 9 7 \n",
            "1 8 3 1 1 2 6 1 6 5 \n",
            "8 1 6 1 1 3 4 3 2 7 \n",
            "1 2 1 5 2 8 0 1 9 7 \n",
            "4 5 9 2 6 1 4 4 4 5 \n"
          ]
        }
      ],
      "source": [
        "for x in range(10):\n",
        "   for y in range(10):\n",
        "      print(random.randint(0,9), end=\" \")\n",
        "# print(\"\\n\", end=\"\")        \n",
        "   print(\"\")"
      ]
    },
    {
      "cell_type": "markdown",
      "source": [
        "**2. If the random number is an odd number, print \"@\" instead:**\n"
      ],
      "metadata": {
        "id": "KSWVW87f3AYe"
      }
    },
    {
      "cell_type": "code",
      "execution_count": 3,
      "metadata": {
        "colab": {
          "base_uri": "https://localhost:8080/"
        },
        "id": "ZPHh8CSQQYFo",
        "outputId": "8ba5d2aa-cfc9-4f08-902e-15251a79e0ba"
      },
      "outputs": [
        {
          "output_type": "stream",
          "name": "stdout",
          "text": [
            "8 4 @ 0 @ 6 0 8 2 6 \n",
            "@ @ @ @ 2 2 4 8 @ @ \n",
            "@ @ 0 @ 4 @ 0 0 @ @ \n",
            "6 @ 8 @ 6 2 6 @ @ @ \n",
            "@ @ 4 @ 6 2 @ @ @ @ \n",
            "@ 2 4 @ @ @ @ 6 4 @ \n",
            "0 @ @ 0 6 @ 6 @ @ 0 \n",
            "@ @ 8 4 @ 8 4 2 @ @ \n",
            "@ @ 2 8 @ @ @ @ 2 @ \n",
            "@ @ 6 4 4 @ @ 6 @ 6 \n"
          ]
        }
      ],
      "source": [
        "for x in range(10):\n",
        "\n",
        "   for y in range(10):\n",
        "\n",
        "       i = random.randint(0,9)\n",
        "       if i%2 == 1:\n",
        "        print(\"@\", end=\" \")\n",
        "       else:\n",
        "        print(i, end= \" \")\n",
        "\n",
        "   print(\"\\n\", end=\"\")        \n",
        " "
      ]
    },
    {
      "cell_type": "markdown",
      "source": [
        "**3. Calculate and Print the total of each row and use \"*\" to separate the total from the numbers:**"
      ],
      "metadata": {
        "id": "ncyUZDt63Ptj"
      }
    },
    {
      "cell_type": "code",
      "source": [
        "for x in range(10):\n",
        "\n",
        "  sum= 0\n",
        "  for y in range(10):\n",
        "    i=random.randint(0,9)\n",
        "    sum= sum+i\n",
        "    print(i, end=\" \")\n",
        "\n",
        "  print(end=\" * \")\n",
        "  print(sum)"
      ],
      "metadata": {
        "colab": {
          "base_uri": "https://localhost:8080/"
        },
        "id": "vj0uIuzYL18A",
        "outputId": "d6f8cccc-9807-48f2-d9ca-d06f3fe2f0a7"
      },
      "execution_count": 4,
      "outputs": [
        {
          "output_type": "stream",
          "name": "stdout",
          "text": [
            "2 3 0 9 7 7 0 6 8 3  * 45\n",
            "0 6 2 3 5 0 9 2 1 4  * 32\n",
            "9 8 1 9 9 7 6 6 2 5  * 62\n",
            "8 6 5 2 8 4 4 1 3 0  * 41\n",
            "8 1 6 7 9 5 7 7 2 4  * 56\n",
            "3 1 8 4 7 8 1 0 5 8  * 45\n",
            "6 6 4 7 9 6 1 9 4 6  * 58\n",
            "1 1 9 8 1 5 6 3 1 4  * 39\n",
            "0 7 5 1 8 1 8 8 2 7  * 47\n",
            "2 3 2 2 0 7 9 2 8 7  * 42\n"
          ]
        }
      ]
    },
    {
      "cell_type": "markdown",
      "source": [
        "**4. Surround the matrix with asterisks (*):**"
      ],
      "metadata": {
        "id": "0DXYV8fV3WCC"
      }
    },
    {
      "cell_type": "code",
      "source": [
        "for i in range(1):\n",
        "  print(\"*\"*23, end=\" \")\n",
        "print()\n",
        "\n",
        "for x in range(10):\n",
        "  print(\"*\",end=\" \")\n",
        "  for y in range(10):\n",
        "    print(random.randint(0,9), end=\" \")\n",
        "\n",
        "  print(\"*\")\n",
        "\n",
        "for j in range(1):\n",
        "  print(\"*\"*23, end=\" \")\n",
        "\n"
      ],
      "metadata": {
        "colab": {
          "base_uri": "https://localhost:8080/"
        },
        "id": "yilvpEzrH5aH",
        "outputId": "43de177a-3bec-4b2c-bb51-784cf962654b"
      },
      "execution_count": 5,
      "outputs": [
        {
          "output_type": "stream",
          "name": "stdout",
          "text": [
            "*********************** \n",
            "* 1 7 3 3 0 9 3 2 4 9 *\n",
            "* 2 3 4 9 1 2 0 1 5 8 *\n",
            "* 7 6 0 4 9 7 4 1 0 9 *\n",
            "* 3 0 1 9 4 2 9 9 6 0 *\n",
            "* 4 9 4 8 1 6 4 2 2 1 *\n",
            "* 7 0 0 1 9 3 3 3 2 8 *\n",
            "* 7 7 7 3 1 8 5 8 9 4 *\n",
            "* 6 1 5 9 8 4 5 6 0 4 *\n",
            "* 3 7 1 1 8 0 1 5 1 3 *\n",
            "* 1 0 9 8 1 7 9 0 5 3 *\n",
            "*********************** "
          ]
        }
      ]
    },
    {
      "cell_type": "markdown",
      "source": [
        "**5. Calculate and Print the total of each row and column with asterisk to separate the total from matrix:**"
      ],
      "metadata": {
        "id": "ZiMHLV_p3cDN"
      }
    },
    {
      "cell_type": "code",
      "source": [
        "sum = [0]*10  \n",
        "for x in range(0,10): \n",
        "    i= 0 \n",
        "    for y in range(0,10):  \n",
        "        num=(random.randint(0,9))\n",
        "        i= i+(num)  \n",
        "        sum[y] = sum[y] + num  \n",
        "        print(num, end=\"  \") \n",
        "    print(\"*\", i)  \n",
        "for a in range(0,10):\n",
        "    print(\"*\", end=\"  \")  \n",
        "print(\"\\n\", end=\"\")  \n",
        "for b in range(0,10):\n",
        "    print(sum[b], end=\" \")"
      ],
      "metadata": {
        "colab": {
          "base_uri": "https://localhost:8080/"
        },
        "id": "V_9nJqpuUfhn",
        "outputId": "5ca331a2-eac6-4fa6-845e-7df508687de1"
      },
      "execution_count": 6,
      "outputs": [
        {
          "output_type": "stream",
          "name": "stdout",
          "text": [
            "5  5  3  3  4  6  8  1  2  6  * 43\n",
            "9  7  1  3  6  0  3  2  6  4  * 41\n",
            "9  7  2  5  2  4  8  2  3  2  * 44\n",
            "1  4  6  5  1  3  4  7  6  9  * 46\n",
            "7  7  7  8  3  4  2  3  1  2  * 44\n",
            "4  7  0  8  6  9  1  0  5  6  * 46\n",
            "0  4  4  9  5  4  9  1  2  2  * 40\n",
            "2  0  9  2  5  8  5  7  6  6  * 50\n",
            "5  4  3  8  0  7  9  1  6  1  * 44\n",
            "0  5  2  9  0  7  0  0  5  6  * 34\n",
            "*  *  *  *  *  *  *  *  *  *  \n",
            "42 50 37 60 32 52 49 24 42 44 "
          ]
        }
      ]
    }
  ],
  "metadata": {
    "colab": {
      "name": "assignment03_homework.ipynb",
      "provenance": [],
      "authorship_tag": "ABX9TyOhv/NrY2N3PgIYQIUF0DDU",
      "include_colab_link": true
    },
    "kernelspec": {
      "display_name": "Python 3",
      "name": "python3"
    },
    "language_info": {
      "name": "python"
    }
  },
  "nbformat": 4,
  "nbformat_minor": 0
}