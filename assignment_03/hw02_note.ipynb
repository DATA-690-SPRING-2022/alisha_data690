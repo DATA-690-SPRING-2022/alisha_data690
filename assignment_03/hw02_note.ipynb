{
  "nbformat": 4,
  "nbformat_minor": 0,
  "metadata": {
    "colab": {
      "name": "hw02_note.ipynb",
      "provenance": [],
      "authorship_tag": "ABX9TyPeRMoD55qMr+TcMp8mtHD2",
      "include_colab_link": true
    },
    "kernelspec": {
      "name": "python3",
      "display_name": "Python 3"
    },
    "language_info": {
      "name": "python"
    }
  },
  "cells": [
    {
      "cell_type": "markdown",
      "metadata": {
        "id": "view-in-github",
        "colab_type": "text"
      },
      "source": [
        "<a href=\"https://colab.research.google.com/github/alishaminj12/alisha_data690/blob/main/assignment_03/hw02_note.ipynb\" target=\"_parent\"><img src=\"https://colab.research.google.com/assets/colab-badge.svg\" alt=\"Open In Colab\"/></a>"
      ]
    },
    {
      "cell_type": "markdown",
      "source": [
        "# In Class practice"
      ],
      "metadata": {
        "id": "O_zPz1h847Fd"
      }
    },
    {
      "cell_type": "code",
      "source": [
        "def min_max_list(numbers, min_max):\n",
        "  if min_max ==\"min\":\n",
        "     min = numbers[0]\n",
        "     for num in numbers:\n",
        "         if min > num:\n",
        "            min = num\n",
        "     return min\n",
        "\n",
        "  elif min_max ==\"max\":\n",
        "      max = numbers[0]  \n",
        "\n",
        "      for num in numbers:\n",
        "       if max < num :\n",
        "         max = num\n",
        "      return max\n",
        "  else:\n",
        "     return \"Please enter 'min' or 'max'\""
      ],
      "metadata": {
        "id": "_D5LmcKa5D2n"
      },
      "execution_count": 6,
      "outputs": []
    },
    {
      "cell_type": "code",
      "source": [
        "def min_max_list(numbers):\n",
        "    min = numbers[0]\n",
        "\n",
        "    for num in numbers:\n",
        "         if min > num:\n",
        "            min = num\n",
        "            \n",
        "    return min "
      ],
      "metadata": {
        "id": "EKUfEuuV7tkQ"
      },
      "execution_count": 9,
      "outputs": []
    },
    {
      "cell_type": "code",
      "source": [
        "def max(numbers):   \n",
        "    max = numbers[0]  \n",
        "\n",
        "    for num in numbers:\n",
        "       if max < num :\n",
        "         max = num\n",
        "\n",
        "    return max"
      ],
      "metadata": {
        "id": "CzlWiyVy8QF8"
      },
      "execution_count": 10,
      "outputs": []
    },
    {
      "cell_type": "code",
      "source": [
        "x = min([1,2,3,4,5,6])\n",
        "print(x)"
      ],
      "metadata": {
        "colab": {
          "base_uri": "https://localhost:8080/"
        },
        "id": "ZKRChkGG8lRj",
        "outputId": "7e0415de-79dc-4a4a-b48b-469f39486f40"
      },
      "execution_count": 11,
      "outputs": [
        {
          "output_type": "stream",
          "name": "stdout",
          "text": [
            "1\n"
          ]
        }
      ]
    },
    {
      "cell_type": "code",
      "source": [
        "x = max([1,2,3,4,5,6])\n",
        "print(x)"
      ],
      "metadata": {
        "colab": {
          "base_uri": "https://localhost:8080/"
        },
        "id": "PvcIP38W8vIr",
        "outputId": "b4acc126-47fb-45aa-a568-ef89934118d6"
      },
      "execution_count": 12,
      "outputs": [
        {
          "output_type": "stream",
          "name": "stdout",
          "text": [
            "6\n"
          ]
        }
      ]
    }
  ]
}