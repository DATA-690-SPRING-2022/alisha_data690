{
  "nbformat": 4,
  "nbformat_minor": 0,
  "metadata": {
    "colab": {
      "name": "help_for_hw03.ipynb",
      "provenance": [],
      "authorship_tag": "ABX9TyMORdGdDLE7VQbwKxRqr0uc",
      "include_colab_link": true
    },
    "kernelspec": {
      "name": "python3",
      "display_name": "Python 3"
    },
    "language_info": {
      "name": "python"
    }
  },
  "cells": [
    {
      "cell_type": "markdown",
      "metadata": {
        "id": "view-in-github",
        "colab_type": "text"
      },
      "source": [
        "<a href=\"https://colab.research.google.com/github/alishaminj12/alisha_data690/blob/main/assignment_03/help_for_hw03.ipynb\" target=\"_parent\"><img src=\"https://colab.research.google.com/assets/colab-badge.svg\" alt=\"Open In Colab\"/></a>"
      ]
    },
    {
      "cell_type": "markdown",
      "source": [
        "## In Class Practice\n",
        "- Name - Alisha Minj\n",
        "- Date - 02-14-2022"
      ],
      "metadata": {
        "id": "pT4q9ruP3Lql"
      }
    },
    {
      "cell_type": "code",
      "execution_count": 1,
      "metadata": {
        "colab": {
          "base_uri": "https://localhost:8080/"
        },
        "id": "kJOHEnfOw6um",
        "outputId": "386e6dc0-d6f5-42bb-fd92-7c596ebc4057"
      },
      "outputs": [
        {
          "output_type": "stream",
          "name": "stdout",
          "text": [
            "[2, 5, 12, 'Alisha', 'Minj']\n"
          ]
        }
      ],
      "source": [
        "x = [2,5,12, \"Alisha\", \"Minj\"]\n",
        "print(x)"
      ]
    },
    {
      "cell_type": "code",
      "source": [
        "for a in x:   # a is a member of x\n",
        "   print(a, end=\" * \")"
      ],
      "metadata": {
        "colab": {
          "base_uri": "https://localhost:8080/"
        },
        "id": "70cOTW-MxWA9",
        "outputId": "2d4ba01a-2a58-4fb9-cb76-5e3ec4701414"
      },
      "execution_count": 10,
      "outputs": [
        {
          "output_type": "stream",
          "name": "stdout",
          "text": [
            "2 * 5 * 12 * Alisha * Minj * "
          ]
        }
      ]
    },
    {
      "cell_type": "code",
      "source": [
        "\"5\" in x  # checking string"
      ],
      "metadata": {
        "colab": {
          "base_uri": "https://localhost:8080/"
        },
        "id": "fEsxf4wYxnDk",
        "outputId": "2334139b-fbe4-4b3d-f87e-096400cc83f6"
      },
      "execution_count": 2,
      "outputs": [
        {
          "output_type": "execute_result",
          "data": {
            "text/plain": [
              "False"
            ]
          },
          "metadata": {},
          "execution_count": 2
        }
      ]
    },
    {
      "cell_type": "code",
      "source": [
        "5 in x"
      ],
      "metadata": {
        "colab": {
          "base_uri": "https://localhost:8080/"
        },
        "id": "UhdsRRDZx3Az",
        "outputId": "3df6f671-9ef4-4b53-81ad-d688301a7d39"
      },
      "execution_count": 3,
      "outputs": [
        {
          "output_type": "execute_result",
          "data": {
            "text/plain": [
              "True"
            ]
          },
          "metadata": {},
          "execution_count": 3
        }
      ]
    },
    {
      "cell_type": "code",
      "source": [
        "if 5 in x:\n",
        "  print(\"5 is a member of a list x.\")\n",
        "else:\n",
        "  print(\"5 is not a member\")  "
      ],
      "metadata": {
        "colab": {
          "base_uri": "https://localhost:8080/"
        },
        "id": "5K5mmMEmx70F",
        "outputId": "d7165d70-8292-412c-b366-ecd1554ad77f"
      },
      "execution_count": 4,
      "outputs": [
        {
          "output_type": "stream",
          "name": "stdout",
          "text": [
            "5 is a member of a list x.\n"
          ]
        }
      ]
    },
    {
      "cell_type": "code",
      "source": [
        "y = [5, 1, 5, 6, 2, 7, 8, 6, 4, 2 ]\n",
        "print(y)"
      ],
      "metadata": {
        "colab": {
          "base_uri": "https://localhost:8080/"
        },
        "id": "bfNHocxgzBKp",
        "outputId": "36ec7e55-c814-490a-d80c-c60aa408a608"
      },
      "execution_count": 6,
      "outputs": [
        {
          "output_type": "stream",
          "name": "stdout",
          "text": [
            "[5, 1, 5, 6, 2, 7, 8, 6, 4, 2]\n"
          ]
        }
      ]
    },
    {
      "cell_type": "code",
      "source": [
        "for b in y:\n",
        "    print(b)"
      ],
      "metadata": {
        "colab": {
          "base_uri": "https://localhost:8080/"
        },
        "id": "PGPf-PxtzPTG",
        "outputId": "aa4311da-281d-42ca-bf30-7ad2dcaae534"
      },
      "execution_count": 7,
      "outputs": [
        {
          "output_type": "stream",
          "name": "stdout",
          "text": [
            "5\n",
            "1\n",
            "5\n",
            "6\n",
            "2\n",
            "7\n",
            "8\n",
            "6\n",
            "4\n",
            "2\n"
          ]
        }
      ]
    },
    {
      "cell_type": "code",
      "source": [
        "for b in y:\n",
        "    print(b, end= \" \")"
      ],
      "metadata": {
        "colab": {
          "base_uri": "https://localhost:8080/"
        },
        "id": "5nE4QwvMzWyA",
        "outputId": "e4bf9db4-f011-4cda-8286-709cba32ef15"
      },
      "execution_count": 9,
      "outputs": [
        {
          "output_type": "stream",
          "name": "stdout",
          "text": [
            "5 1 5 6 2 7 8 6 4 2 "
          ]
        }
      ]
    },
    {
      "cell_type": "code",
      "source": [
        "import random"
      ],
      "metadata": {
        "id": "3FpUCRz2zwcj"
      },
      "execution_count": 13,
      "outputs": []
    },
    {
      "cell_type": "code",
      "source": [
        "random.randint(0, 9)"
      ],
      "metadata": {
        "colab": {
          "base_uri": "https://localhost:8080/"
        },
        "id": "PqXzwZACz7Wp",
        "outputId": "e92bc36b-5132-41cf-df5a-b93187786d3d"
      },
      "execution_count": 17,
      "outputs": [
        {
          "output_type": "execute_result",
          "data": {
            "text/plain": [
              "8"
            ]
          },
          "metadata": {},
          "execution_count": 17
        }
      ]
    },
    {
      "cell_type": "code",
      "source": [
        "for i in range(0, 10):\n",
        "  print(random.randint(0,9))"
      ],
      "metadata": {
        "colab": {
          "base_uri": "https://localhost:8080/"
        },
        "id": "2-Xbsoks0jei",
        "outputId": "489aa6d9-d14c-45e0-aa11-891ca3d08e34"
      },
      "execution_count": 19,
      "outputs": [
        {
          "output_type": "stream",
          "name": "stdout",
          "text": [
            "2\n",
            "6\n",
            "6\n",
            "9\n",
            "6\n",
            "1\n",
            "3\n",
            "7\n",
            "2\n",
            "3\n"
          ]
        }
      ]
    },
    {
      "cell_type": "code",
      "source": [
        "for i in range(10):\n",
        "  print(random.randint(0,9), end=\" \")"
      ],
      "metadata": {
        "colab": {
          "base_uri": "https://localhost:8080/"
        },
        "id": "syjKuiU71BdA",
        "outputId": "71294cc4-01da-4c3c-bcde-5feaacd17cf0"
      },
      "execution_count": 21,
      "outputs": [
        {
          "output_type": "stream",
          "name": "stdout",
          "text": [
            "1 5 7 0 4 9 7 9 6 6 "
          ]
        }
      ]
    },
    {
      "cell_type": "code",
      "source": [
        "for x in range(10):\n",
        "   for y in range(10):\n",
        "     print(random.randint(0,9), end=\" \")\n",
        "# print(\"\\n\", end=\"\")        \n",
        "   print(\"\")"
      ],
      "metadata": {
        "colab": {
          "base_uri": "https://localhost:8080/"
        },
        "id": "R97J4z9O1Xgk",
        "outputId": "10d3305d-cd93-4735-a0a3-751aa5d7328e"
      },
      "execution_count": 28,
      "outputs": [
        {
          "output_type": "stream",
          "name": "stdout",
          "text": [
            "8 5 5 0 3 9 8 4 6 6 \n",
            "3 9 4 6 3 4 6 7 5 6 \n",
            "5 0 4 7 9 8 4 6 6 3 \n",
            "9 3 5 3 7 7 5 8 2 8 \n",
            "6 3 4 5 4 6 9 8 3 0 \n",
            "9 9 2 1 5 3 3 9 1 9 \n",
            "9 3 1 4 9 9 3 2 8 4 \n",
            "6 2 9 2 0 0 7 6 3 8 \n",
            "4 7 3 9 7 4 5 1 2 6 \n",
            "7 4 5 9 8 6 1 2 1 6 \n"
          ]
        }
      ]
    },
    {
      "cell_type": "code",
      "source": [
        ""
      ],
      "metadata": {
        "id": "rx9mSmxW3AXA"
      },
      "execution_count": null,
      "outputs": []
    }
  ]
}