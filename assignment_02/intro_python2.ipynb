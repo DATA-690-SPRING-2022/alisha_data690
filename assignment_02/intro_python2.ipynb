{
  "nbformat": 4,
  "nbformat_minor": 0,
  "metadata": {
    "colab": {
      "name": "intro_python2.ipynb",
      "provenance": [],
      "authorship_tag": "ABX9TyNh6wqgPIT2ZX6nxTEAUOMU",
      "include_colab_link": true
    },
    "kernelspec": {
      "name": "python3",
      "display_name": "Python 3"
    },
    "language_info": {
      "name": "python"
    }
  },
  "cells": [
    {
      "cell_type": "markdown",
      "metadata": {
        "id": "view-in-github",
        "colab_type": "text"
      },
      "source": [
        "<a href=\"https://colab.research.google.com/github/alishaminj12/alisha_data690/blob/main/assignment_02/intro_python2.ipynb\" target=\"_parent\"><img src=\"https://colab.research.google.com/assets/colab-badge.svg\" alt=\"Open In Colab\"/></a>"
      ]
    },
    {
      "cell_type": "markdown",
      "source": [
        "# Introduction to Python - Part 2\n",
        "\n",
        "- Name: Alisha Minj\n",
        "- Date: 02/08/2022"
      ],
      "metadata": {
        "id": "s0fynX54AXzc"
      }
    },
    {
      "cell_type": "code",
      "source": [
        "x = input(\"Please tell me you age:\")"
      ],
      "metadata": {
        "colab": {
          "base_uri": "https://localhost:8080/"
        },
        "id": "KNB3mw7fAvNI",
        "outputId": "00661a7a-2bbf-445a-fbfe-aa7882300386"
      },
      "execution_count": 2,
      "outputs": [
        {
          "name": "stdout",
          "output_type": "stream",
          "text": [
            "Please tell me you age:23\n"
          ]
        }
      ]
    },
    {
      "cell_type": "code",
      "source": [
        "print(\"Your age is\", x)"
      ],
      "metadata": {
        "colab": {
          "base_uri": "https://localhost:8080/"
        },
        "id": "LwmOxKLHA_Vg",
        "outputId": "574ace2a-f611-46f7-8feb-be4101753e57"
      },
      "execution_count": 3,
      "outputs": [
        {
          "output_type": "stream",
          "name": "stdout",
          "text": [
            "Your age is 23\n"
          ]
        }
      ]
    },
    {
      "cell_type": "code",
      "source": [
        "type(x)"
      ],
      "metadata": {
        "colab": {
          "base_uri": "https://localhost:8080/"
        },
        "id": "_uRQNPPMBO3I",
        "outputId": "85315d07-a67e-4380-e196-1fb33c43fda9"
      },
      "execution_count": 4,
      "outputs": [
        {
          "output_type": "execute_result",
          "data": {
            "text/plain": [
              "str"
            ]
          },
          "metadata": {},
          "execution_count": 4
        }
      ]
    },
    {
      "cell_type": "code",
      "source": [
        "y = input(\"What is your age:\")"
      ],
      "metadata": {
        "colab": {
          "base_uri": "https://localhost:8080/"
        },
        "id": "FBsw3b5HBSQe",
        "outputId": "b69f5dd0-04d8-4d3b-9bf5-b595cf21813c"
      },
      "execution_count": 9,
      "outputs": [
        {
          "name": "stdout",
          "output_type": "stream",
          "text": [
            "What is your age: 23\n"
          ]
        }
      ]
    },
    {
      "cell_type": "code",
      "source": [
        "type(y)"
      ],
      "metadata": {
        "colab": {
          "base_uri": "https://localhost:8080/"
        },
        "id": "Qmy23xlLCNBo",
        "outputId": "a7136ebb-a410-44dc-ea4e-a97cab7f355a"
      },
      "execution_count": 10,
      "outputs": [
        {
          "output_type": "execute_result",
          "data": {
            "text/plain": [
              "str"
            ]
          },
          "metadata": {},
          "execution_count": 10
        }
      ]
    },
    {
      "cell_type": "code",
      "source": [
        "x = input(\"Your age:\")\n",
        "y = int(x)\n",
        "\n",
        "if y == 56:\n",
        "     print(\"You and I have the same age:\")\n",
        "elif y > 56:\n",
        "     print(\"You are older than me\")\n",
        "else: \n",
        "     print(\"You are younger than me\")         \n"
      ],
      "metadata": {
        "colab": {
          "base_uri": "https://localhost:8080/"
        },
        "id": "2yMh6XDoCD0d",
        "outputId": "cbc8b6ae-07e0-42ca-d7af-4a9b473679a3"
      },
      "execution_count": 11,
      "outputs": [
        {
          "output_type": "stream",
          "name": "stdout",
          "text": [
            "Your age:23\n",
            "You are younger than me\n"
          ]
        }
      ]
    },
    {
      "cell_type": "code",
      "source": [
        "while True:\n",
        "    x = input(\"Your age:\")\n",
        "    try:\n",
        "        y = int(x)\n",
        "        break\n",
        "    except:\n",
        "        continue    \n",
        "\n",
        "if y == 56:\n",
        "     print(\"You and I have the same age:\")\n",
        "elif y > 56:\n",
        "     print(\"You are older than me\")\n",
        "else: \n",
        "     print(\"You are younger than me\")   "
      ],
      "metadata": {
        "colab": {
          "base_uri": "https://localhost:8080/"
        },
        "id": "VNig-nWmDqtB",
        "outputId": "aff99a6d-a6d0-42c6-cbda-1db51df5c9e4"
      },
      "execution_count": 12,
      "outputs": [
        {
          "output_type": "stream",
          "name": "stdout",
          "text": [
            "Your age:23\n",
            "You are younger than me\n"
          ]
        }
      ]
    }
  ]
}