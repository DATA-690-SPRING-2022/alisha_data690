{
  "nbformat": 4,
  "nbformat_minor": 0,
  "metadata": {
    "colab": {
      "name": "assignment02_homework.ipynb",
      "provenance": [],
      "authorship_tag": "ABX9TyPH6Q5ayPd5Ty/JlWiaWW2u",
      "include_colab_link": true
    },
    "kernelspec": {
      "name": "python3",
      "display_name": "Python 3"
    },
    "language_info": {
      "name": "python"
    }
  },
  "cells": [
    {
      "cell_type": "markdown",
      "metadata": {
        "id": "view-in-github",
        "colab_type": "text"
      },
      "source": [
        "<a href=\"https://colab.research.google.com/github/alishaminj12/alisha_data690/blob/main/assignment_02/assignment02_homework.ipynb\" target=\"_parent\"><img src=\"https://colab.research.google.com/assets/colab-badge.svg\" alt=\"Open In Colab\"/></a>"
      ]
    },
    {
      "cell_type": "markdown",
      "source": [
        "# Assignment 02\n",
        "\n",
        "Program to enter 10 integers and display the results back to the user. \n",
        "\n",
        "Calculate Minimum, Maximum, Range, Mean, Variance, Standard Deviation."
      ],
      "metadata": {
        "id": "ZBQl3BZxdfKm"
      }
    },
    {
      "cell_type": "markdown",
      "source": [
        "##  Prompts a user to enter 10 integers."
      ],
      "metadata": {
        "id": "MC-MFUi1p2a3"
      }
    },
    {
      "cell_type": "code",
      "source": [
        "# Define the list\n",
        "list_value =[]\n",
        "\n",
        "for i in range(0,10):\n",
        "    while True:\n",
        "       user_input = input(\"Enter a number: \")\n",
        "       try:   # try block used to find if the input is integer or not\n",
        "          val = int(user_input)\n",
        "          list_value.append(val)\n",
        "          print(\" \")\n",
        "          break\n",
        "       except:\n",
        "          print(\"Retry.. Enter an integer\") "
      ],
      "metadata": {
        "colab": {
          "base_uri": "https://localhost:8080/"
        },
        "id": "NYOB69QeHumr",
        "outputId": "e0c406b9-f543-4cef-fa89-311c5ded94c1"
      },
      "execution_count": 111,
      "outputs": [
        {
          "output_type": "stream",
          "name": "stdout",
          "text": [
            "Enter a number: 2\n",
            " \n",
            "Enter a number: 3\n",
            " \n",
            "Enter a number: 4\n",
            " \n",
            "Enter a number: 5\n",
            " \n",
            "Enter a number: 6\n",
            " \n",
            "Enter a number: 7\n",
            " \n",
            "Enter a number: 8\n",
            " \n",
            "Enter a number: 9\n",
            " \n",
            "Enter a number: 10\n",
            " \n",
            "Enter a number: 11\n",
            " \n"
          ]
        }
      ]
    },
    {
      "cell_type": "markdown",
      "source": [
        "## Display the result back to the user"
      ],
      "metadata": {
        "id": "Nhf3p2XgIqkF"
      }
    },
    {
      "cell_type": "code",
      "source": [
        "print(\"Number you entered : \", list_value)"
      ],
      "metadata": {
        "colab": {
          "base_uri": "https://localhost:8080/"
        },
        "id": "Aye13HUTIq1r",
        "outputId": "5ea50a7e-8a5f-4c80-92bf-77771a4b49ac"
      },
      "execution_count": 112,
      "outputs": [
        {
          "output_type": "stream",
          "name": "stdout",
          "text": [
            "Number you entered :  [2, 3, 4, 5, 6, 7, 8, 9, 10, 11]\n"
          ]
        }
      ]
    },
    {
      "cell_type": "markdown",
      "source": [
        "## Calculate the Statistics\n",
        " -  Minimum  and Maximum Value "
      ],
      "metadata": {
        "id": "isDLzX52Mw-Z"
      }
    },
    {
      "cell_type": "code",
      "source": [
        "# Minimum Value\n",
        "# Maximum Value\n",
        "def min_max_list(numbers, min_max):\n",
        "   if min_max == \"min\":\n",
        "      min = numbers[0]\n",
        "      for num in numbers:\n",
        "          if min > num:\n",
        "             min = num\n",
        "      return min\n",
        "\n",
        "   elif min_max ==\"max\":\n",
        "      max = numbers[0]\n",
        "\n",
        "      for num in numbers:\n",
        "          if max < num :\n",
        "             max = num\n",
        "      return max\n",
        "\n",
        "a = min_max_list(list_value, \"min\")\n",
        "print(a, \"is the minimum value\")\n",
        "\n"
      ],
      "metadata": {
        "colab": {
          "base_uri": "https://localhost:8080/"
        },
        "id": "O6dhJRyPMxOC",
        "outputId": "1e995594-3079-444a-8c2c-f95e3f6831eb"
      },
      "execution_count": 113,
      "outputs": [
        {
          "output_type": "stream",
          "name": "stdout",
          "text": [
            "2 is the minimum value\n"
          ]
        }
      ]
    },
    {
      "cell_type": "code",
      "source": [
        "b = min_max_list(list_value, \"max\")\n",
        "print(b, \"is the maximum value\")\n"
      ],
      "metadata": {
        "colab": {
          "base_uri": "https://localhost:8080/"
        },
        "id": "RmRdjnTsSjZc",
        "outputId": "69f97799-d865-4f98-c89c-634aa61fdf4d"
      },
      "execution_count": 114,
      "outputs": [
        {
          "output_type": "stream",
          "name": "stdout",
          "text": [
            "11 is the maximum value\n"
          ]
        }
      ]
    },
    {
      "cell_type": "markdown",
      "source": [
        "- Defining Range"
      ],
      "metadata": {
        "id": "LByq1RuKzMAZ"
      }
    },
    {
      "cell_type": "code",
      "source": [
        "# Range is difference between manimum and minimum\n",
        "Range = max(list_value) - min(list_value)\n",
        "\n",
        "print(\"Range :\", Range)"
      ],
      "metadata": {
        "colab": {
          "base_uri": "https://localhost:8080/"
        },
        "id": "ZSwEHxb_w1WX",
        "outputId": "e08a1610-08e7-461b-b55b-42fbc4ca31e0"
      },
      "execution_count": 115,
      "outputs": [
        {
          "output_type": "stream",
          "name": "stdout",
          "text": [
            "Range : 9\n"
          ]
        }
      ]
    },
    {
      "cell_type": "markdown",
      "source": [
        "- Finding Mean "
      ],
      "metadata": {
        "id": "fnVSaOXIzP6s"
      }
    },
    {
      "cell_type": "code",
      "source": [
        "# Mean of a list\n",
        "l = len(list_value)\n",
        "mean = sum = 0\n",
        "for i in range (0,l):\n",
        "   sum += list_value[i]\n",
        "# Formula of mean\n",
        "mean = sum/l\n",
        "print(\" Mean :\", mean) "
      ],
      "metadata": {
        "colab": {
          "base_uri": "https://localhost:8080/"
        },
        "id": "K0pb5mQQUX0B",
        "outputId": "605e953d-7ad4-414e-a0d0-a04fa9dcef7c"
      },
      "execution_count": 116,
      "outputs": [
        {
          "output_type": "stream",
          "name": "stdout",
          "text": [
            " Mean : 6.5\n"
          ]
        }
      ]
    },
    {
      "cell_type": "markdown",
      "source": [
        ""
      ],
      "metadata": {
        "id": "XPhRfSR57RuU"
      }
    },
    {
      "cell_type": "markdown",
      "source": [
        "- Variance"
      ],
      "metadata": {
        "id": "filyKhiazTpB"
      }
    },
    {
      "cell_type": "code",
      "source": [
        "#Variance\n",
        "sum=0\n",
        "for i in range(len(list_value)):\n",
        "  sum = sum + (list_value[i]- mean)**2\n",
        "  \n",
        "var = sum/ l\n",
        "print(\"variance :\", var )"
      ],
      "metadata": {
        "colab": {
          "base_uri": "https://localhost:8080/"
        },
        "id": "SX2d1Lgj7XN3",
        "outputId": "43a5ed43-b09e-4dd0-fde6-41410d956c3b"
      },
      "execution_count": 119,
      "outputs": [
        {
          "output_type": "stream",
          "name": "stdout",
          "text": [
            "variance : 8.25\n"
          ]
        }
      ]
    },
    {
      "cell_type": "markdown",
      "source": [
        "- Standard Deviation"
      ],
      "metadata": {
        "id": "HcB22TIjzaqw"
      }
    },
    {
      "cell_type": "markdown",
      "source": [
        ""
      ],
      "metadata": {
        "id": "-lBfm6H-8Ame"
      }
    },
    {
      "cell_type": "code",
      "source": [
        "# Standard Deviation \n",
        "stdev = var**0.5\n",
        "print(\" Standard Deviation :\",stdev)"
      ],
      "metadata": {
        "colab": {
          "base_uri": "https://localhost:8080/"
        },
        "id": "Tz8w7q2ZcJmE",
        "outputId": "3076ed51-40d6-42ab-c8c3-b8ba32f6cb23"
      },
      "execution_count": 120,
      "outputs": [
        {
          "output_type": "stream",
          "name": "stdout",
          "text": [
            " Standard Deviation : 2.8722813232690143\n"
          ]
        }
      ]
    }
  ]
}