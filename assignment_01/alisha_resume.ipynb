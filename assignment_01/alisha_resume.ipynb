{
  "nbformat": 4,
  "nbformat_minor": 0,
  "metadata": {
    "colab": {
      "name": "alisha_resume.ipynb",
      "provenance": [],
      "toc_visible": true,
      "authorship_tag": "ABX9TyMgSAIfxtPzX/2mVDSGuwEd",
      "include_colab_link": true
    },
    "kernelspec": {
      "name": "python3",
      "display_name": "Python 3"
    },
    "language_info": {
      "name": "python"
    }
  },
  "cells": [
    {
      "cell_type": "markdown",
      "metadata": {
        "id": "view-in-github",
        "colab_type": "text"
      },
      "source": [
        "<a href=\"https://colab.research.google.com/github/alishaminj12/alisha_data690/blob/main/assignment_01/alisha_resume.ipynb\" target=\"_parent\"><img src=\"https://colab.research.google.com/assets/colab-badge.svg\" alt=\"Open In Colab\"/></a>"
      ]
    },
    {
      "cell_type": "markdown",
      "source": [
        "# **ALISHA MINJ**\n",
        ![alisha](alisha.jfif)
        "------------------------------------------\n",
        "\n",
        "| Baltimore, MD 21201 | 443-691-7868 | alishaminj1204@gmail.com\n",
        "\n",
        "### **SUMMARY**\n",
        "\n",
        "Ambitious Data Science student seeking internship in data analyst to gain hands - on experience from industry experts.Highly motivated individual with a passion to learn and grow in the field. I introspect myself as a creative, interactive and adaptive individual with a self- directed approach. \n",
        "\n",
        "### **SKILLS**\n",
        "\n",
        "\n",
        " - Communication                                 \n",
        " - Problem resolution                                 \n",
        " - Strategic Planning                           \n",
        " - Quantitative skills\n",
        "\n",
        "### **EDUCATION BACKGROUND**\n",
        "\n",
        " \n",
        " - **Bachelor of Technology** in Computer Science from SRM Institute of Science and Technology, Chennai, India\n",
        "\n",
        " - **High School Certificate** from Krishna Public, Durg, India\n",
        "\n",
        " - **Senior Secondary Certificate** from Delhi Public School, Durg, India\n",
        "\n",
        "### **PROJECTS**\n",
        " 1. **SOS Android application from women safety**\n",
        "\n",
        " An Android application in which people can send distress signal in danger to their emergency contacts and police with their location.\n",
        "  \n",
        "\n",
        " 2. **Extended emergency call for android device**\n",
        " \n",
        " \"E++\" using Android will be an extension in the default emergency calling feature in the form of android application, which will help the receiver to identify an emergency call by changing the background color of the call screen making sure that the call must be attended in any case.\n",
        "\n",
        " 3. **Smart STRIP for Women safety**\n",
        "\n",
        " A wearable electronic adhesive device with automatic trigger in case of emergency. The strip can be wore anywhere according to one's convenience. It also has better network range and can connect with an application.\n",
        "\n",
        "### **TECHNICAL SKILLS**\n",
        "- **Programming languages** - C, C++, Python, PHP \n",
        "- **Softwares** - Operating System, DBMS, MySQL\n",
        "\n",
        "### **CERTIFICATIONS**\n",
        "- Value added course in C, C++, certified by Sai Career Visions.\n",
        "- Python and Machine learning course by Udemy\n",
        "\n",
        "### **PUBLICATIONS**\n",
        " 1. Smart and cocvenient device to fight against women assault in IJARIIE journal \n",
        "\n",
        "   | Paper ID- 7613| ISSN NO. 2395-4396|Volume -4| Date- 24-03-2018|\n",
        "\n",
        "2. Extended Emergency call for android device in IJARIIE journal \n",
        "\n",
        "   | Paper ID- 7735| ISSN NO. 2395-4396|Volume -4| Date- 31-03-2018|\n",
        "\n",
        "### **LANGUAGE**\n",
        "- Bilingual- English and Hindi\n",
        "- Ruimentary- German\n",
        " "
      ],
      "metadata": {
        "id": "VQ6iITyPBLCD"
      }
    }
  ]
}
