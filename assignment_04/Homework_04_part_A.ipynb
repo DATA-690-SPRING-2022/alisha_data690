{
  "nbformat": 4,
  "nbformat_minor": 0,
  "metadata": {
    "colab": {
      "name": "Homework_04_part_A.ipynb",
      "provenance": [],
      "collapsed_sections": [],
      "authorship_tag": "ABX9TyMCodP5b8LGye/jLml9OXYU",
      "include_colab_link": true
    },
    "kernelspec": {
      "name": "python3",
      "display_name": "Python 3"
    },
    "language_info": {
      "name": "python"
    }
  },
  "cells": [
    {
      "cell_type": "markdown",
      "metadata": {
        "id": "view-in-github",
        "colab_type": "text"
      },
      "source": [
        "<a href=\"https://colab.research.google.com/github/alishaminj12/alisha_data690/blob/main/assignment_04/Homework_04_part_A.ipynb\" target=\"_parent\"><img src=\"https://colab.research.google.com/assets/colab-badge.svg\" alt=\"Open In Colab\"/></a>"
      ]
    },
    {
      "cell_type": "markdown",
      "source": [
        "#Assignment - 4\n",
        "##Part A - Using Python\n",
        "- Name- Alisha Minj\n",
        "- Date- 02-26-2022\n"
      ],
      "metadata": {
        "id": "7o2sueqdIXX2"
      }
    },
    {
      "cell_type": "markdown",
      "source": [
        "##1.Write code to open the text file census_costs.txt and read all lines into a list named \"line_list\". Print line_list."
      ],
      "metadata": {
        "id": "ExYOl2EasLcQ"
      }
    },
    {
      "cell_type": "code",
      "source": [
        "with open(\"census_costs.txt\",\"r\") as f:\n",
        "  line_list = f.readlines()\n",
        "\n",
        "line_list"
      ],
      "metadata": {
        "colab": {
          "base_uri": "https://localhost:8080/"
        },
        "id": "5LUzwML8_ViX",
        "outputId": "e6f3f087-3095-4362-e141-048716402b10"
      },
      "execution_count": 59,
      "outputs": [
        {
          "output_type": "execute_result",
          "data": {
            "text/plain": [
              "['Source: https://www.genealogybranches.com/censuscosts.html\\n',\n",
              " 'Census Year\\tTotal Population\\tCensus Cost\\tAverage Cost Per Person\\n',\n",
              " '1790\\t3,929,214\\t$44,377\\t1.13 cents\\n',\n",
              " '1800\\t5,308,483\\t$66,109\\t1.24 cents\\n',\n",
              " '1810\\t7,239,881\\t$178,445\\t2.46 cents\\n',\n",
              " '1820\\t9,633,822\\t$208,526\\t2.16 cents\\n',\n",
              " '1830\\t12,866,020\\t$378,545\\t2.94 cents\\n',\n",
              " '1840\\t17,069,458\\t$833,371\\t4.88 cents\\n',\n",
              " '1850\\t23,191,876\\t$1,423,351\\t6.14 cents\\n',\n",
              " '1860\\t31,443,321\\t$1,969,377\\t6.26 cents\\n',\n",
              " '1870\\t38,558,371\\t$3,421,198\\t8.87 cents\\n',\n",
              " '1880\\t50,155,783\\t$5,790,678\\t11.54 cents\\n',\n",
              " '1890\\t62,979,766\\t$11,547,127\\t18.33 cents\\n',\n",
              " '1900\\t76,303,387\\t$11,854,000\\t15.54 cents\\n',\n",
              " '1910\\t91,972,266\\t$15,968,000\\t17.07 cents\\n',\n",
              " '1920\\t105,710,620\\t$25,117,000\\t23.76 cents\\n',\n",
              " '1930\\t122,775,046\\t$40,156,000\\t32.71 cents\\n',\n",
              " '1940\\t131,669,275\\t$67,527,000\\t51.29 cents\\n',\n",
              " '1950\\t151,325,798\\t$91,462,000\\t60.44 cents\\n',\n",
              " '1960\\t179,323,175\\t$127,934,000\\t71.34 cents\\n',\n",
              " '1970\\t203,302,031\\t$247,653,000\\t$1.22\\n',\n",
              " '1980\\t226,542,199\\t$1,078,488,000\\t$4.76\\n',\n",
              " '1990\\t248,718,301\\t$2,492,830,000\\t$10.02\\n',\n",
              " '2000\\t281,421,906\\t$4.5 Billion\\t$15.99\\n',\n",
              " '2010*\\t308,745,538\\t$13 Billion\\t$42.11\\n']"
            ]
          },
          "metadata": {},
          "execution_count": 59
        }
      ]
    },
    {
      "cell_type": "markdown",
      "source": [
        "##2. Extract the first two lines and put them in a different list named \"top2_list\"."
      ],
      "metadata": {
        "id": "9VQo4ix2DQDq"
      }
    },
    {
      "cell_type": "code",
      "source": [
        "top2_list = line_list[0:2]\n",
        "top2_list"
      ],
      "metadata": {
        "colab": {
          "base_uri": "https://localhost:8080/"
        },
        "id": "k0mMUwVSD8R9",
        "outputId": "e02fad54-0f9e-4d1a-cb81-76c38cbe7095"
      },
      "execution_count": 45,
      "outputs": [
        {
          "output_type": "execute_result",
          "data": {
            "text/plain": [
              "['Source: https://www.genealogybranches.com/censuscosts.html\\n',\n",
              " 'Census Year\\tTotal Population\\tCensus Cost\\tAverage Cost Per Person\\n']"
            ]
          },
          "metadata": {},
          "execution_count": 45
        }
      ]
    },
    {
      "cell_type": "markdown",
      "source": [
        "##3. Put the rest of the lines (containing useful data elements) in a new list named \"data_list\". Print data_list."
      ],
      "metadata": {
        "id": "B1aB7m3aI73p"
      }
    },
    {
      "cell_type": "code",
      "source": [
        "data_list = line_list[2:]\n",
        "\n",
        "data_list"
      ],
      "metadata": {
        "colab": {
          "base_uri": "https://localhost:8080/"
        },
        "id": "JADSr1r6ENyf",
        "outputId": "b1fbba59-c7e4-4abb-f3cc-f4ec40b223b8"
      },
      "execution_count": 46,
      "outputs": [
        {
          "output_type": "execute_result",
          "data": {
            "text/plain": [
              "['1790\\t3,929,214\\t$44,377\\t1.13 cents\\n',\n",
              " '1800\\t5,308,483\\t$66,109\\t1.24 cents\\n',\n",
              " '1810\\t7,239,881\\t$178,445\\t2.46 cents\\n',\n",
              " '1820\\t9,633,822\\t$208,526\\t2.16 cents\\n',\n",
              " '1830\\t12,866,020\\t$378,545\\t2.94 cents\\n',\n",
              " '1840\\t17,069,458\\t$833,371\\t4.88 cents\\n',\n",
              " '1850\\t23,191,876\\t$1,423,351\\t6.14 cents\\n',\n",
              " '1860\\t31,443,321\\t$1,969,377\\t6.26 cents\\n',\n",
              " '1870\\t38,558,371\\t$3,421,198\\t8.87 cents\\n',\n",
              " '1880\\t50,155,783\\t$5,790,678\\t11.54 cents\\n',\n",
              " '1890\\t62,979,766\\t$11,547,127\\t18.33 cents\\n',\n",
              " '1900\\t76,303,387\\t$11,854,000\\t15.54 cents\\n',\n",
              " '1910\\t91,972,266\\t$15,968,000\\t17.07 cents\\n',\n",
              " '1920\\t105,710,620\\t$25,117,000\\t23.76 cents\\n',\n",
              " '1930\\t122,775,046\\t$40,156,000\\t32.71 cents\\n',\n",
              " '1940\\t131,669,275\\t$67,527,000\\t51.29 cents\\n',\n",
              " '1950\\t151,325,798\\t$91,462,000\\t60.44 cents\\n',\n",
              " '1960\\t179,323,175\\t$127,934,000\\t71.34 cents\\n',\n",
              " '1970\\t203,302,031\\t$247,653,000\\t$1.22\\n',\n",
              " '1980\\t226,542,199\\t$1,078,488,000\\t$4.76\\n',\n",
              " '1990\\t248,718,301\\t$2,492,830,000\\t$10.02\\n',\n",
              " '2000\\t281,421,906\\t$4.5 Billion\\t$15.99\\n',\n",
              " '2010*\\t308,745,538\\t$13 Billion\\t$42.11\\n']"
            ]
          },
          "metadata": {},
          "execution_count": 46
        }
      ]
    },
    {
      "cell_type": "markdown",
      "source": [
        "##4. Extract the column \"Census Year\" from data_list and assign them to a list named year_list. Remove the * from the last element \"2010\". Print the cleansed year_list"
      ],
      "metadata": {
        "id": "93AjbHOzJDac"
      }
    },
    {
      "cell_type": "code",
      "source": [
        "year_list = []\n",
        "\n",
        "for item in data_list:\n",
        "  info = item.split(\"\\t\")\n",
        "  year_list.append(info[0])\n",
        "year_list[len(year_list)-1] = \"2010\" \n",
        "print(year_list)"
      ],
      "metadata": {
        "colab": {
          "base_uri": "https://localhost:8080/"
        },
        "id": "dH6L59SNXPFh",
        "outputId": "35c7c17f-22d3-41f3-8d9d-60e385e5b147"
      },
      "execution_count": 47,
      "outputs": [
        {
          "output_type": "stream",
          "name": "stdout",
          "text": [
            "['1790', '1800', '1810', '1820', '1830', '1840', '1850', '1860', '1870', '1880', '1890', '1900', '1910', '1920', '1930', '1940', '1950', '1960', '1970', '1980', '1990', '2000', '2010']\n"
          ]
        }
      ]
    },
    {
      "cell_type": "markdown",
      "source": [
        "##5. Extract the \"Total Population\" column from the data_list and assign them to a list named \"pop_list\". Remove the \",\" from the numbers since Python doesn't recognize them. Print the cleansed \"pop_list\".\n"
      ],
      "metadata": {
        "id": "BGWs9yb8JiSi"
      }
    },
    {
      "cell_type": "code",
      "source": [
        "pop_list = []\n",
        "\n",
        "for item in data_list:\n",
        "  info = item.split(\"\\t\")\n",
        "  pop_list.append(info[1])\n",
        "\n",
        "print(pop_list)"
      ],
      "metadata": {
        "colab": {
          "base_uri": "https://localhost:8080/"
        },
        "id": "alkKVUfQYmY1",
        "outputId": "57ff0afc-29ec-4b3c-d56c-f2cdce8c737f"
      },
      "execution_count": 48,
      "outputs": [
        {
          "output_type": "stream",
          "name": "stdout",
          "text": [
            "['3,929,214', '5,308,483', '7,239,881', '9,633,822', '12,866,020', '17,069,458', '23,191,876', '31,443,321', '38,558,371', '50,155,783', '62,979,766', '76,303,387', '91,972,266', '105,710,620', '122,775,046', '131,669,275', '151,325,798', '179,323,175', '203,302,031', '226,542,199', '248,718,301', '281,421,906', '308,745,538']\n"
          ]
        }
      ]
    },
    {
      "cell_type": "code",
      "source": [
        "for i in range(len(pop_list)):\n",
        "  pop_list[i] = pop_list[i].replace(\",\",\"\")\n",
        "print(pop_list)"
      ],
      "metadata": {
        "colab": {
          "base_uri": "https://localhost:8080/"
        },
        "id": "KAwoW5_-Y7JI",
        "outputId": "8d98b39d-fb81-41c5-8af9-ce955fd06331"
      },
      "execution_count": 49,
      "outputs": [
        {
          "output_type": "stream",
          "name": "stdout",
          "text": [
            "['3929214', '5308483', '7239881', '9633822', '12866020', '17069458', '23191876', '31443321', '38558371', '50155783', '62979766', '76303387', '91972266', '105710620', '122775046', '131669275', '151325798', '179323175', '203302031', '226542199', '248718301', '281421906', '308745538']\n"
          ]
        }
      ]
    },
    {
      "cell_type": "markdown",
      "source": [
        "##6. Extract the \"Census Cost\" column from the data_list and assign them to a list named \"cost_list\". Remove the \",\", and \"$\", and \"Billion\". Make sure to add the \"0\"s to the numbers from which you removed \"Billion\". Print the cleansed cost_list."
      ],
      "metadata": {
        "id": "TjN1lJGwJz2y"
      }
    },
    {
      "cell_type": "code",
      "source": [
        "cost_list = []\n",
        "\n",
        "for item in data_list:\n",
        "  info = item.split(\"\\t\")\n",
        "  cost_list.append(info[2])\n",
        "print(cost_list)"
      ],
      "metadata": {
        "colab": {
          "base_uri": "https://localhost:8080/"
        },
        "id": "GYjXPCe1Ze8c",
        "outputId": "31e7eec3-d20e-4006-e351-aef520db9bcd"
      },
      "execution_count": 50,
      "outputs": [
        {
          "output_type": "stream",
          "name": "stdout",
          "text": [
            "['$44,377', '$66,109', '$178,445', '$208,526', '$378,545', '$833,371', '$1,423,351', '$1,969,377', '$3,421,198', '$5,790,678', '$11,547,127', '$11,854,000', '$15,968,000', '$25,117,000', '$40,156,000', '$67,527,000', '$91,462,000', '$127,934,000', '$247,653,000', '$1,078,488,000', '$2,492,830,000', '$4.5 Billion', '$13 Billion']\n"
          ]
        }
      ]
    },
    {
      "cell_type": "code",
      "source": [
        "for i in range(len(cost_list)):\n",
        "  cost_list[i] = cost_list[i].replace(\"$\",\"\").replace(\",\",\"\").replace(\" Billion\",\"000000000\")\n",
        "print(cost_list)"
      ],
      "metadata": {
        "colab": {
          "base_uri": "https://localhost:8080/"
        },
        "id": "hxF3k-WkaERi",
        "outputId": "12a37321-202d-4369-9753-79a50906ed03"
      },
      "execution_count": 51,
      "outputs": [
        {
          "output_type": "stream",
          "name": "stdout",
          "text": [
            "['44377', '66109', '178445', '208526', '378545', '833371', '1423351', '1969377', '3421198', '5790678', '11547127', '11854000', '15968000', '25117000', '40156000', '67527000', '91462000', '127934000', '247653000', '1078488000', '2492830000', '4.5000000000', '13000000000']\n"
          ]
        }
      ]
    },
    {
      "cell_type": "markdown",
      "source": [
        "##7. Extract the \"Average Cost per Person\" column from the data_list and assign them to a list named \"avg_list\". Remove the \"cents\", and \"$\". Make sure to divide the numbers in cents by 100 so that all numbers are measured in dollar. Print the cleansed avg_list."
      ],
      "metadata": {
        "id": "ZaG3c0KqJ6o5"
      }
    },
    {
      "cell_type": "code",
      "source": [
        "avg_list = []\n",
        "\n",
        "for item in data_list:\n",
        "  info = item.split(\"\\t\")\n",
        "  avg_list.append(info[3])\n",
        "\n",
        "print(avg_list)"
      ],
      "metadata": {
        "colab": {
          "base_uri": "https://localhost:8080/"
        },
        "id": "CpPBljM8awqo",
        "outputId": "f2a33271-2606-49da-ba44-e8b0b3d5e838"
      },
      "execution_count": 52,
      "outputs": [
        {
          "output_type": "stream",
          "name": "stdout",
          "text": [
            "['1.13 cents\\n', '1.24 cents\\n', '2.46 cents\\n', '2.16 cents\\n', '2.94 cents\\n', '4.88 cents\\n', '6.14 cents\\n', '6.26 cents\\n', '8.87 cents\\n', '11.54 cents\\n', '18.33 cents\\n', '15.54 cents\\n', '17.07 cents\\n', '23.76 cents\\n', '32.71 cents\\n', '51.29 cents\\n', '60.44 cents\\n', '71.34 cents\\n', '$1.22\\n', '$4.76\\n', '$10.02\\n', '$15.99\\n', '$42.11\\n']\n"
          ]
        }
      ]
    },
    {
      "cell_type": "code",
      "source": [
        "avg_list=[]\n",
        "\n",
        "for line in data_list:\n",
        "    part_list=line.split(\"\\t\")\n",
        "    avg_cost=part_list[-1]\n",
        "    avg_cost1=avg_cost.replace(\"$\",\"\")\n",
        "    avg_cost2=avg_cost1.replace(\"\\n\",\"\")\n",
        "    if \"cents\" in avg_cost2:\n",
        "         avg_cost3=float(avg_cost2.replace(\" cents\",\"\"))/100\n",
        "    else:\n",
        "         avg_cost3=avg_cost2\n",
        "    avg_list.append(avg_cost3)\n",
        "\n",
        "print(avg_list)"
      ],
      "metadata": {
        "colab": {
          "base_uri": "https://localhost:8080/"
        },
        "id": "ggQBAbgac873",
        "outputId": "85276ca6-cb8b-4ca0-e31e-b6024f0f6120"
      },
      "execution_count": 53,
      "outputs": [
        {
          "output_type": "stream",
          "name": "stdout",
          "text": [
            "[0.0113, 0.0124, 0.0246, 0.0216, 0.0294, 0.048799999999999996, 0.061399999999999996, 0.0626, 0.08869999999999999, 0.11539999999999999, 0.1833, 0.15539999999999998, 0.1707, 0.2376, 0.3271, 0.5129, 0.6043999999999999, 0.7134, '1.22', '4.76', '10.02', '15.99', '42.11']\n"
          ]
        }
      ]
    },
    {
      "cell_type": "markdown",
      "source": [
        "##8. Coalesce the cleansed data and save them to a text file named \"census_cost.csv\". The new file should look similar to the original source file except that it is in comma-delimited format and the numbers have been cleansed. The top two lines from the original file should be retained in the new file."
      ],
      "metadata": {
        "id": "FhawF0NbKGI-"
      }
    },
    {
      "cell_type": "code",
      "source": [
        "avg_list=[str(element) for element in avg_list]\n",
        "f_list=[list(a) for a in zip(year_list, pop_list, cost_list, avg_list)]\n",
        "print(f_list)"
      ],
      "metadata": {
        "colab": {
          "base_uri": "https://localhost:8080/"
        },
        "id": "BedN_IsaEwo5",
        "outputId": "e3650fbb-d2a9-4c58-b03a-ab132178f21a"
      },
      "execution_count": 54,
      "outputs": [
        {
          "output_type": "stream",
          "name": "stdout",
          "text": [
            "[['1790', '3929214', '44377', '0.0113'], ['1800', '5308483', '66109', '0.0124'], ['1810', '7239881', '178445', '0.0246'], ['1820', '9633822', '208526', '0.0216'], ['1830', '12866020', '378545', '0.0294'], ['1840', '17069458', '833371', '0.048799999999999996'], ['1850', '23191876', '1423351', '0.061399999999999996'], ['1860', '31443321', '1969377', '0.0626'], ['1870', '38558371', '3421198', '0.08869999999999999'], ['1880', '50155783', '5790678', '0.11539999999999999'], ['1890', '62979766', '11547127', '0.1833'], ['1900', '76303387', '11854000', '0.15539999999999998'], ['1910', '91972266', '15968000', '0.1707'], ['1920', '105710620', '25117000', '0.2376'], ['1930', '122775046', '40156000', '0.3271'], ['1940', '131669275', '67527000', '0.5129'], ['1950', '151325798', '91462000', '0.6043999999999999'], ['1960', '179323175', '127934000', '0.7134'], ['1970', '203302031', '247653000', '1.22'], ['1980', '226542199', '1078488000', '4.76'], ['1990', '248718301', '2492830000', '10.02'], ['2000', '281421906', '4.5000000000', '15.99'], ['2010', '308745538', '13000000000', '42.11']]\n"
          ]
        }
      ]
    },
    {
      "cell_type": "code",
      "source": [
        "with open('census_cost.csv', 'w') as f:\n",
        "    for item in top2_list:\n",
        "        f.write(\"%s\\n\" % item)"
      ],
      "metadata": {
        "id": "r_bAiuHAEzvq"
      },
      "execution_count": 55,
      "outputs": []
    },
    {
      "cell_type": "code",
      "source": [
        "for i in range(len(f_list)) :\n",
        "  for j in range(len(f_list[i])) :\n",
        "        print(f_list[i][j], end=\" \",  file=open(\"census_cost.csv\", \"a\"))\n",
        "  print(\"\\n\",file=open(\"census_cost.csv\", \"a\") )"
      ],
      "metadata": {
        "id": "0Vh5RZfRE3P-"
      },
      "execution_count": 56,
      "outputs": []
    },
    {
      "cell_type": "markdown",
      "source": [
        "##9.Write code to open the newly-created file \"census_cost.csv\", read all lines and display them."
      ],
      "metadata": {
        "id": "KB64Nf4oK0Cn"
      }
    },
    {
      "cell_type": "code",
      "source": [
        "with open(\"census_cost.csv\") as file_in:\n",
        "    for line in file_in:\n",
        "        print(line)"
      ],
      "metadata": {
        "colab": {
          "base_uri": "https://localhost:8080/"
        },
        "id": "-vIBghlgE7yR",
        "outputId": "b6484ea2-a7ed-463b-95d8-1b7193635518"
      },
      "execution_count": 66,
      "outputs": [
        {
          "output_type": "stream",
          "name": "stdout",
          "text": [
            "Source: https://www.genealogybranches.com/censuscosts.html\n",
            "\n",
            "\n",
            "\n",
            "Census Year\tTotal Population\tCensus Cost\tAverage Cost Per Person\n",
            "\n",
            "\n",
            "\n",
            "1790 3929214 44377 0.0113 \n",
            "\n",
            "\n",
            "\n",
            "1800 5308483 66109 0.0124 \n",
            "\n",
            "\n",
            "\n",
            "1810 7239881 178445 0.0246 \n",
            "\n",
            "\n",
            "\n",
            "1820 9633822 208526 0.0216 \n",
            "\n",
            "\n",
            "\n",
            "1830 12866020 378545 0.0294 \n",
            "\n",
            "\n",
            "\n",
            "1840 17069458 833371 0.048799999999999996 \n",
            "\n",
            "\n",
            "\n",
            "1850 23191876 1423351 0.061399999999999996 \n",
            "\n",
            "\n",
            "\n",
            "1860 31443321 1969377 0.0626 \n",
            "\n",
            "\n",
            "\n",
            "1870 38558371 3421198 0.08869999999999999 \n",
            "\n",
            "\n",
            "\n",
            "1880 50155783 5790678 0.11539999999999999 \n",
            "\n",
            "\n",
            "\n",
            "1890 62979766 11547127 0.1833 \n",
            "\n",
            "\n",
            "\n",
            "1900 76303387 11854000 0.15539999999999998 \n",
            "\n",
            "\n",
            "\n",
            "1910 91972266 15968000 0.1707 \n",
            "\n",
            "\n",
            "\n",
            "1920 105710620 25117000 0.2376 \n",
            "\n",
            "\n",
            "\n",
            "1930 122775046 40156000 0.3271 \n",
            "\n",
            "\n",
            "\n",
            "1940 131669275 67527000 0.5129 \n",
            "\n",
            "\n",
            "\n",
            "1950 151325798 91462000 0.6043999999999999 \n",
            "\n",
            "\n",
            "\n",
            "1960 179323175 127934000 0.7134 \n",
            "\n",
            "\n",
            "\n",
            "1970 203302031 247653000 1.22 \n",
            "\n",
            "\n",
            "\n",
            "1980 226542199 1078488000 4.76 \n",
            "\n",
            "\n",
            "\n",
            "1990 248718301 2492830000 10.02 \n",
            "\n",
            "\n",
            "\n",
            "2000 281421906 4.5000000000 15.99 \n",
            "\n",
            "\n",
            "\n",
            "2010 308745538 13000000000 42.11 \n",
            "\n",
            "\n",
            "\n"
          ]
        }
      ]
    },
    {
      "cell_type": "code",
      "source": [
        ""
      ],
      "metadata": {
        "id": "QLnHZY9mrSBT"
      },
      "execution_count": null,
      "outputs": []
    }
  ]
}