{
  "nbformat": 4,
  "nbformat_minor": 0,
  "metadata": {
    "colab": {
      "name": "inclass_session_04.ipynb",
      "provenance": [],
      "authorship_tag": "ABX9TyOVF2SFB9MZuEkLg94SVssF",
      "include_colab_link": true
    },
    "kernelspec": {
      "name": "python3",
      "display_name": "Python 3"
    },
    "language_info": {
      "name": "python"
    }
  },
  "cells": [
    {
      "cell_type": "markdown",
      "metadata": {
        "id": "view-in-github",
        "colab_type": "text"
      },
      "source": [
        "<a href=\"https://colab.research.google.com/github/alishaminj12/alisha_data690/blob/main/assignment_04/inclass_session_04.ipynb\" target=\"_parent\"><img src=\"https://colab.research.google.com/assets/colab-badge.svg\" alt=\"Open In Colab\"/></a>"
      ]
    },
    {
      "cell_type": "markdown",
      "source": [
        "# In Class Practice\n",
        "- Name- Alisha Minj\n",
        "- Date- 02/21/22"
      ],
      "metadata": {
        "id": "ngjgSzN90hgZ"
      }
    },
    {
      "cell_type": "code",
      "source": [
        "import random\n",
        "import re\n",
        "for i in range(0,10):\n",
        "    print(end=\"\\n \")\n",
        "    for j in range(0,10):\n",
        "        num=random.randint(0,9)\n",
        "        if (num % 2) == 0:\n",
        "            print(num, end=\" \")\n",
        "        else:\n",
        "            strnum = str(num)\n",
        "            strnum=strnum.replace(strnum,\"@\")\n",
        "            print(strnum, end=\" \")"
      ],
      "metadata": {
        "colab": {
          "base_uri": "https://localhost:8080/"
        },
        "id": "APON5h-W0y0Q",
        "outputId": "ad355c3d-53b9-4e07-e121-f9fc386f58d3"
      },
      "execution_count": 1,
      "outputs": [
        {
          "output_type": "stream",
          "name": "stdout",
          "text": [
            "\n",
            " @ @ 6 4 @ @ @ @ @ 0 \n",
            " 8 @ @ 6 6 @ @ @ 2 @ \n",
            " @ 2 4 @ @ @ @ @ 0 @ \n",
            " @ 2 4 4 @ @ @ @ 8 @ \n",
            " 4 4 2 8 @ 6 8 @ @ 6 \n",
            " @ 0 6 2 0 4 2 0 4 8 \n",
            " @ @ 6 @ @ 8 2 4 0 6 \n",
            " 0 4 4 @ 4 @ 2 8 @ 8 \n",
            " 6 @ 2 @ 6 @ @ 8 0 @ \n",
            " 6 2 @ @ @ 8 8 6 0 6 "
          ]
        }
      ]
    },
    {
      "cell_type": "code",
      "source": [
        "x = \"Hello, wporld!\"\n",
        "print(x)"
      ],
      "metadata": {
        "colab": {
          "base_uri": "https://localhost:8080/"
        },
        "id": "fkd7Aqo10_An",
        "outputId": "be31cda0-b1cf-43d3-fae8-17c7411f6c13"
      },
      "execution_count": 2,
      "outputs": [
        {
          "output_type": "stream",
          "name": "stdout",
          "text": [
            "Hello, wporld!\n"
          ]
        }
      ]
    },
    {
      "cell_type": "code",
      "source": [
        "x = x.replace(\"p\", \"\")\n",
        "print(x)"
      ],
      "metadata": {
        "colab": {
          "base_uri": "https://localhost:8080/"
        },
        "id": "AhP9v9aB1Lkh",
        "outputId": "545a9594-92a7-4f94-f93c-cc4e5f42bedb"
      },
      "execution_count": 21,
      "outputs": [
        {
          "output_type": "stream",
          "name": "stdout",
          "text": [
            "hi, World!\n"
          ]
        }
      ]
    },
    {
      "cell_type": "code",
      "source": [
        "x = x.replace(\"Hello\", \"Hi\") \n",
        "print(x)"
      ],
      "metadata": {
        "colab": {
          "base_uri": "https://localhost:8080/"
        },
        "id": "PKvgiWFW1Yls",
        "outputId": "4bd44b61-b8b3-4de4-92cf-961dc8984baa"
      },
      "execution_count": 22,
      "outputs": [
        {
          "output_type": "stream",
          "name": "stdout",
          "text": [
            "hi, World!\n"
          ]
        }
      ]
    },
    {
      "cell_type": "code",
      "source": [
        "x = x.replace(\"w\", \"W\")\n",
        "print(x)"
      ],
      "metadata": {
        "colab": {
          "base_uri": "https://localhost:8080/"
        },
        "id": "7yq-nOcv2Cmb",
        "outputId": "4433ae06-d549-42f5-dcb8-f39c5ee3419e"
      },
      "execution_count": 24,
      "outputs": [
        {
          "output_type": "stream",
          "name": "stdout",
          "text": [
            "hi, World!\n"
          ]
        }
      ]
    },
    {
      "cell_type": "code",
      "source": [
        "x = x.upper()\n",
        "\n",
        "print(x)"
      ],
      "metadata": {
        "colab": {
          "base_uri": "https://localhost:8080/"
        },
        "id": "sy1UR5U_2SZv",
        "outputId": "ebd18d07-14e6-4b64-8f4f-f1cea0385e12"
      },
      "execution_count": 25,
      "outputs": [
        {
          "output_type": "stream",
          "name": "stdout",
          "text": [
            "HI, WORLD!\n"
          ]
        }
      ]
    },
    {
      "cell_type": "code",
      "source": [
        "x = x.lower()\n",
        "print(x)\n"
      ],
      "metadata": {
        "colab": {
          "base_uri": "https://localhost:8080/"
        },
        "id": "TnggKUmN2b0p",
        "outputId": "5cbbfa2c-6992-40a7-b265-17bd1d1e3a60"
      },
      "execution_count": 26,
      "outputs": [
        {
          "output_type": "stream",
          "name": "stdout",
          "text": [
            "hi, world!\n"
          ]
        }
      ]
    },
    {
      "cell_type": "markdown",
      "source": [
        "# String functions/methods/operations\n",
        "\n",
        "- upper()\n",
        "- lower()\n",
        "- replace()\n",
        "- strip()\n",
        "- lstrip()\n",
        "- rstrip()\n"
      ],
      "metadata": {
        "id": "AbXWsTMV2stU"
      }
    },
    {
      "cell_type": "code",
      "source": [
        "# generate 100 number first\n",
        "\n",
        "numbers=[]   # This list is to hold 100 random numbers\n",
        "for i in range(100):\n",
        "  numbers.append(random.randint(0,9))\n",
        "\n",
        "print(numbers)\n",
        "print(len(numbers))"
      ],
      "metadata": {
        "colab": {
          "base_uri": "https://localhost:8080/"
        },
        "id": "5pdkffym3MCL",
        "outputId": "85240f58-27d7-4e1a-c5d6-af3c26baebde"
      },
      "execution_count": 27,
      "outputs": [
        {
          "output_type": "stream",
          "name": "stdout",
          "text": [
            "[5, 5, 1, 3, 8, 6, 1, 1, 8, 5, 0, 6, 9, 1, 2, 3, 2, 7, 4, 5, 5, 2, 6, 4, 4, 7, 2, 1, 6, 4, 3, 3, 9, 7, 0, 8, 7, 3, 8, 9, 3, 5, 0, 2, 2, 2, 5, 7, 7, 3, 9, 0, 6, 5, 0, 9, 9, 5, 2, 7, 4, 3, 4, 4, 8, 7, 6, 7, 9, 0, 9, 3, 2, 3, 0, 5, 8, 8, 8, 6, 4, 4, 0, 9, 5, 5, 1, 8, 2, 9, 4, 7, 6, 1, 0, 5, 4, 0, 0, 8]\n",
            "100\n"
          ]
        }
      ]
    },
    {
      "cell_type": "code",
      "source": [
        "for i in range(0,100,1):\n",
        "  print(numbers[i])"
      ],
      "metadata": {
        "colab": {
          "base_uri": "https://localhost:8080/"
        },
        "id": "1qqERzC141n9",
        "outputId": "047300d8-daaf-42cc-e910-4ab11f16e338"
      },
      "execution_count": 33,
      "outputs": [
        {
          "output_type": "stream",
          "name": "stdout",
          "text": [
            "5\n",
            "5\n",
            "1\n",
            "3\n",
            "8\n",
            "6\n",
            "1\n",
            "1\n",
            "8\n",
            "5\n",
            "0\n",
            "6\n",
            "9\n",
            "1\n",
            "2\n",
            "3\n",
            "2\n",
            "7\n",
            "4\n",
            "5\n",
            "5\n",
            "2\n",
            "6\n",
            "4\n",
            "4\n",
            "7\n",
            "2\n",
            "1\n",
            "6\n",
            "4\n",
            "3\n",
            "3\n",
            "9\n",
            "7\n",
            "0\n",
            "8\n",
            "7\n",
            "3\n",
            "8\n",
            "9\n",
            "3\n",
            "5\n",
            "0\n",
            "2\n",
            "2\n",
            "2\n",
            "5\n",
            "7\n",
            "7\n",
            "3\n",
            "9\n",
            "0\n",
            "6\n",
            "5\n",
            "0\n",
            "9\n",
            "9\n",
            "5\n",
            "2\n",
            "7\n",
            "4\n",
            "3\n",
            "4\n",
            "4\n",
            "8\n",
            "7\n",
            "6\n",
            "7\n",
            "9\n",
            "0\n",
            "9\n",
            "3\n",
            "2\n",
            "3\n",
            "0\n",
            "5\n",
            "8\n",
            "8\n",
            "8\n",
            "6\n",
            "4\n",
            "4\n",
            "0\n",
            "9\n",
            "5\n",
            "5\n",
            "1\n",
            "8\n",
            "2\n",
            "9\n",
            "4\n",
            "7\n",
            "6\n",
            "1\n",
            "0\n",
            "5\n",
            "4\n",
            "0\n",
            "0\n",
            "8\n"
          ]
        }
      ]
    },
    {
      "cell_type": "code",
      "source": [
        "for i in range(0,100,1):\n",
        "  print(\"index = \",i, \"numbers = \", numbers[i])"
      ],
      "metadata": {
        "colab": {
          "base_uri": "https://localhost:8080/"
        },
        "id": "zxmopzpy5MmO",
        "outputId": "44485879-5964-4824-e584-da4f45a15d8c"
      },
      "execution_count": 35,
      "outputs": [
        {
          "output_type": "stream",
          "name": "stdout",
          "text": [
            "index =  0 numbers =  5\n",
            "index =  1 numbers =  5\n",
            "index =  2 numbers =  1\n",
            "index =  3 numbers =  3\n",
            "index =  4 numbers =  8\n",
            "index =  5 numbers =  6\n",
            "index =  6 numbers =  1\n",
            "index =  7 numbers =  1\n",
            "index =  8 numbers =  8\n",
            "index =  9 numbers =  5\n",
            "index =  10 numbers =  0\n",
            "index =  11 numbers =  6\n",
            "index =  12 numbers =  9\n",
            "index =  13 numbers =  1\n",
            "index =  14 numbers =  2\n",
            "index =  15 numbers =  3\n",
            "index =  16 numbers =  2\n",
            "index =  17 numbers =  7\n",
            "index =  18 numbers =  4\n",
            "index =  19 numbers =  5\n",
            "index =  20 numbers =  5\n",
            "index =  21 numbers =  2\n",
            "index =  22 numbers =  6\n",
            "index =  23 numbers =  4\n",
            "index =  24 numbers =  4\n",
            "index =  25 numbers =  7\n",
            "index =  26 numbers =  2\n",
            "index =  27 numbers =  1\n",
            "index =  28 numbers =  6\n",
            "index =  29 numbers =  4\n",
            "index =  30 numbers =  3\n",
            "index =  31 numbers =  3\n",
            "index =  32 numbers =  9\n",
            "index =  33 numbers =  7\n",
            "index =  34 numbers =  0\n",
            "index =  35 numbers =  8\n",
            "index =  36 numbers =  7\n",
            "index =  37 numbers =  3\n",
            "index =  38 numbers =  8\n",
            "index =  39 numbers =  9\n",
            "index =  40 numbers =  3\n",
            "index =  41 numbers =  5\n",
            "index =  42 numbers =  0\n",
            "index =  43 numbers =  2\n",
            "index =  44 numbers =  2\n",
            "index =  45 numbers =  2\n",
            "index =  46 numbers =  5\n",
            "index =  47 numbers =  7\n",
            "index =  48 numbers =  7\n",
            "index =  49 numbers =  3\n",
            "index =  50 numbers =  9\n",
            "index =  51 numbers =  0\n",
            "index =  52 numbers =  6\n",
            "index =  53 numbers =  5\n",
            "index =  54 numbers =  0\n",
            "index =  55 numbers =  9\n",
            "index =  56 numbers =  9\n",
            "index =  57 numbers =  5\n",
            "index =  58 numbers =  2\n",
            "index =  59 numbers =  7\n",
            "index =  60 numbers =  4\n",
            "index =  61 numbers =  3\n",
            "index =  62 numbers =  4\n",
            "index =  63 numbers =  4\n",
            "index =  64 numbers =  8\n",
            "index =  65 numbers =  7\n",
            "index =  66 numbers =  6\n",
            "index =  67 numbers =  7\n",
            "index =  68 numbers =  9\n",
            "index =  69 numbers =  0\n",
            "index =  70 numbers =  9\n",
            "index =  71 numbers =  3\n",
            "index =  72 numbers =  2\n",
            "index =  73 numbers =  3\n",
            "index =  74 numbers =  0\n",
            "index =  75 numbers =  5\n",
            "index =  76 numbers =  8\n",
            "index =  77 numbers =  8\n",
            "index =  78 numbers =  8\n",
            "index =  79 numbers =  6\n",
            "index =  80 numbers =  4\n",
            "index =  81 numbers =  4\n",
            "index =  82 numbers =  0\n",
            "index =  83 numbers =  9\n",
            "index =  84 numbers =  5\n",
            "index =  85 numbers =  5\n",
            "index =  86 numbers =  1\n",
            "index =  87 numbers =  8\n",
            "index =  88 numbers =  2\n",
            "index =  89 numbers =  9\n",
            "index =  90 numbers =  4\n",
            "index =  91 numbers =  7\n",
            "index =  92 numbers =  6\n",
            "index =  93 numbers =  1\n",
            "index =  94 numbers =  0\n",
            "index =  95 numbers =  5\n",
            "index =  96 numbers =  4\n",
            "index =  97 numbers =  0\n",
            "index =  98 numbers =  0\n",
            "index =  99 numbers =  8\n"
          ]
        }
      ]
    },
    {
      "cell_type": "code",
      "source": [
        "count=0\n",
        "for i in range(10):\n",
        "  for j in range(10):\n",
        "    print(numbers[count],\" \", end=\" \")\n",
        "    count+=1\n",
        "  print(\"\\n\")"
      ],
      "metadata": {
        "colab": {
          "base_uri": "https://localhost:8080/"
        },
        "id": "4AHSoA3a4HBh",
        "outputId": "de66740e-0aa7-477c-bdce-5a4717216e8f"
      },
      "execution_count": 28,
      "outputs": [
        {
          "output_type": "stream",
          "name": "stdout",
          "text": [
            "5   5   1   3   8   6   1   1   8   5   \n",
            "\n",
            "0   6   9   1   2   3   2   7   4   5   \n",
            "\n",
            "5   2   6   4   4   7   2   1   6   4   \n",
            "\n",
            "3   3   9   7   0   8   7   3   8   9   \n",
            "\n",
            "3   5   0   2   2   2   5   7   7   3   \n",
            "\n",
            "9   0   6   5   0   9   9   5   2   7   \n",
            "\n",
            "4   3   4   4   8   7   6   7   9   0   \n",
            "\n",
            "9   3   2   3   0   5   8   8   8   6   \n",
            "\n",
            "4   4   0   9   5   5   1   8   2   9   \n",
            "\n",
            "4   7   6   1   0   5   4   0   0   8   \n",
            "\n"
          ]
        }
      ]
    },
    {
      "cell_type": "code",
      "source": [
        "# when to initialize a variable\n",
        "\n",
        "sum=0\n",
        "for n in range (10): #repeats each row 10 times\n",
        "    for i in range(10): #repeats each integer 10 times\n",
        "       y=random.randint(0,9)\n",
        "       sum=sum+ y\n",
        "       print(y,end=\" \") #prints one integer with space at the end\n",
        "    print( \"*\",sum,end=\" \\n\")  #starts a new row after each 10 char\n",
        "    sum=0                     #resets sum to 0 before the next loop"
      ],
      "metadata": {
        "colab": {
          "base_uri": "https://localhost:8080/"
        },
        "id": "DVTE6yiw7AXL",
        "outputId": "6e74bc7c-9a2e-4603-926a-400c9cb18459"
      },
      "execution_count": 36,
      "outputs": [
        {
          "output_type": "stream",
          "name": "stdout",
          "text": [
            "9 0 5 0 0 7 5 3 8 4 * 41 \n",
            "7 4 1 3 9 2 3 6 2 8 * 45 \n",
            "0 0 0 3 3 4 9 5 0 9 * 33 \n",
            "0 1 3 1 6 5 8 7 7 5 * 43 \n",
            "3 5 1 5 2 9 0 8 7 8 * 48 \n",
            "8 6 3 5 0 5 5 8 4 7 * 51 \n",
            "5 0 7 1 5 6 5 4 5 5 * 43 \n",
            "5 0 9 3 0 2 2 2 1 0 * 24 \n",
            "4 3 0 5 2 5 3 9 9 2 * 42 \n",
            "3 4 1 1 9 0 7 8 5 4 * 42 \n"
          ]
        }
      ]
    },
    {
      "cell_type": "code",
      "source": [
        ""
      ],
      "metadata": {
        "id": "kfoKh3w97KVh"
      },
      "execution_count": null,
      "outputs": []
    }
  ]
}