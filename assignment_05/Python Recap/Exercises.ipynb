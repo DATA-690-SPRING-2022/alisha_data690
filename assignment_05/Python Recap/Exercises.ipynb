{
  "cells": [
    {
      "cell_type": "markdown",
      "metadata": {
        "id": "view-in-github",
        "colab_type": "text"
      },
      "source": [
        "<a href=\"https://colab.research.google.com/github/alishaminj12/alisha_data690/blob/main/assignment_05/Python%20Recap/Exercises.ipynb\" target=\"_parent\"><img src=\"https://colab.research.google.com/assets/colab-badge.svg\" alt=\"Open In Colab\"/></a>"
      ]
    },
    {
      "cell_type": "markdown",
      "source": [
        "# Assignment 05\n",
        "- Name - Alisha Minj\n",
        "- Date - 03-5-2022"
      ],
      "metadata": {
        "id": "4K5-AC7Bb8ou"
      }
    },
    {
      "cell_type": "markdown",
      "metadata": {
        "id": "K1uHjDMXb6MR"
      },
      "source": [
        "### Exercise 1"
      ]
    },
    {
      "cell_type": "code",
      "execution_count": 12,
      "metadata": {
        "id": "-lYg369fb6MT"
      },
      "outputs": [],
      "source": [
        "#Convert the following str into int type\n",
        "revenue_as_string = \"500000\""
      ]
    },
    {
      "cell_type": "code",
      "execution_count": 13,
      "metadata": {
        "cell_type": "solution",
        "colab": {
          "base_uri": "https://localhost:8080/"
        },
        "id": "10uuCck_b6MU",
        "outputId": "85641904-7c20-4985-eeaf-c4d8c7c97503"
      },
      "outputs": [
        {
          "output_type": "execute_result",
          "data": {
            "text/plain": [
              "500000"
            ]
          },
          "metadata": {},
          "execution_count": 13
        }
      ],
      "source": [
        "revenue_as_integer = int(revenue_as_string)\n",
        "\n",
        "revenue_as_integer"
      ]
    },
    {
      "cell_type": "markdown",
      "metadata": {
        "id": "4fvuYMP8b6MV"
      },
      "source": [
        "### Exercise 2\n",
        "\n",
        "Make a function using the following formula:\n",
        "\n",
        "$$ f(x,y) = 2 x + y $$"
      ]
    },
    {
      "cell_type": "code",
      "execution_count": 14,
      "metadata": {
        "cell_type": "solution",
        "id": "CZC0-fn7b6MX"
      },
      "outputs": [],
      "source": [
        "def func(x, y):\n",
        "    return 2*x + y"
      ]
    },
    {
      "cell_type": "code",
      "execution_count": 15,
      "metadata": {
        "colab": {
          "base_uri": "https://localhost:8080/"
        },
        "id": "WUeI_zTEb6MY",
        "outputId": "6c89def3-e794-4844-a5ae-1ab25e45b801"
      },
      "outputs": [
        {
          "output_type": "execute_result",
          "data": {
            "text/plain": [
              "25"
            ]
          },
          "metadata": {},
          "execution_count": 15
        }
      ],
      "source": [
        "func(10, 5)"
      ]
    },
    {
      "cell_type": "code",
      "execution_count": 16,
      "metadata": {
        "colab": {
          "base_uri": "https://localhost:8080/"
        },
        "id": "Yv20heC6b6MZ",
        "outputId": "2ba72318-bd5f-451e-f506-18f0e4976c40"
      },
      "outputs": [
        {
          "output_type": "execute_result",
          "data": {
            "text/plain": [
              "4"
            ]
          },
          "metadata": {},
          "execution_count": 16
        }
      ],
      "source": [
        "func(-3, 10)"
      ]
    },
    {
      "cell_type": "markdown",
      "metadata": {
        "id": "Kuv8m5vVb6Ma"
      },
      "source": [
        "### Exercise 3"
      ]
    },
    {
      "cell_type": "code",
      "execution_count": 17,
      "metadata": {
        "cell_type": "solution",
        "id": "hcFs09qQb6Mb"
      },
      "outputs": [],
      "source": [
        "def last_letter(string):\n",
        "    return string[-1]"
      ]
    },
    {
      "cell_type": "code",
      "execution_count": 18,
      "metadata": {
        "colab": {
          "base_uri": "https://localhost:8080/",
          "height": 35
        },
        "id": "oqye3nMTb6Mb",
        "outputId": "0b3f24f7-dc7c-41c6-e121-d071742a144d"
      },
      "outputs": [
        {
          "output_type": "execute_result",
          "data": {
            "application/vnd.google.colaboratory.intrinsic+json": {
              "type": "string"
            },
            "text/plain": [
              "'n'"
            ]
          },
          "metadata": {},
          "execution_count": 18
        }
      ],
      "source": [
        "last_letter('Python')"
      ]
    },
    {
      "cell_type": "code",
      "execution_count": 19,
      "metadata": {
        "colab": {
          "base_uri": "https://localhost:8080/",
          "height": 35
        },
        "id": "F_Ca_JVOb6Mc",
        "outputId": "2037d481-a068-4206-de8e-16ea14f6cd49"
      },
      "outputs": [
        {
          "output_type": "execute_result",
          "data": {
            "application/vnd.google.colaboratory.intrinsic+json": {
              "type": "string"
            },
            "text/plain": [
              "'R'"
            ]
          },
          "metadata": {},
          "execution_count": 19
        }
      ],
      "source": [
        "last_letter('RMOTR')"
      ]
    },
    {
      "cell_type": "markdown",
      "metadata": {
        "id": "pVrWqEkFb6Mc"
      },
      "source": [
        "### Exercise 4"
      ]
    },
    {
      "cell_type": "code",
      "execution_count": 20,
      "metadata": {
        "cell_type": "solution",
        "id": "lK_6HC7sb6Md"
      },
      "outputs": [],
      "source": [
        "def list_size(my_list):\n",
        "    size = len(my_list)\n",
        "    \n",
        "    if (size > 0):\n",
        "        return 'List has {} elements'.format(size)\n",
        "    else:\n",
        "        return 'Error, no elements'"
      ]
    },
    {
      "cell_type": "code",
      "execution_count": 21,
      "metadata": {
        "colab": {
          "base_uri": "https://localhost:8080/",
          "height": 35
        },
        "id": "TDEaSKF6b6Md",
        "outputId": "13d79d2c-8c63-46bd-ae74-fd34b32805da"
      },
      "outputs": [
        {
          "output_type": "execute_result",
          "data": {
            "application/vnd.google.colaboratory.intrinsic+json": {
              "type": "string"
            },
            "text/plain": [
              "'List has 3 elements'"
            ]
          },
          "metadata": {},
          "execution_count": 21
        }
      ],
      "source": [
        "list_size([1, 2, 3])"
      ]
    },
    {
      "cell_type": "code",
      "execution_count": 22,
      "metadata": {
        "colab": {
          "base_uri": "https://localhost:8080/",
          "height": 35
        },
        "id": "0kFDpmuKb6Md",
        "outputId": "f6e0ba6d-2022-47a1-a66c-6d551c214fed"
      },
      "outputs": [
        {
          "output_type": "execute_result",
          "data": {
            "application/vnd.google.colaboratory.intrinsic+json": {
              "type": "string"
            },
            "text/plain": [
              "'Error, no elements'"
            ]
          },
          "metadata": {},
          "execution_count": 22
        }
      ],
      "source": [
        "list_size([])"
      ]
    }
  ],
  "metadata": {
    "kernelspec": {
      "display_name": "Python 3",
      "language": "python",
      "name": "python3"
    },
    "language_info": {
      "codemirror_mode": {
        "name": "ipython",
        "version": 3
      },
      "file_extension": ".py",
      "mimetype": "text/x-python",
      "name": "python",
      "nbconvert_exporter": "python",
      "pygments_lexer": "ipython3",
      "version": "3.6.8"
    },
    "colab": {
      "name": "Exercises.ipynb",
      "provenance": [],
      "include_colab_link": true
    }
  },
  "nbformat": 4,
  "nbformat_minor": 0
}